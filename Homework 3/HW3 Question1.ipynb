{
 "cells": [
  {
   "cell_type": "markdown",
   "metadata": {},
   "source": [
    "## ORIE 6750 Homework 3 Question 1"
   ]
  },
  {
   "cell_type": "code",
   "execution_count": 16,
   "metadata": {},
   "outputs": [],
   "source": [
    "import numpy as np\n",
    "import matplotlib.pyplot as plt\n",
    "import pandas as pd"
   ]
  },
  {
   "cell_type": "code",
   "execution_count": 80,
   "metadata": {},
   "outputs": [],
   "source": [
    "# define parameters: horizon, cost, discretization buckets\n",
    "\n",
    "H=50\n",
    "c=0.05\n",
    "M=100\n",
    "delta = 1/M\n",
    "\n",
    "# initialize array for storing value function; state space is (M+1)^2 dimensional\n",
    "V = np.zeros([H+1, M+1, M+1])\n",
    "\n",
    "# initialize array for storing Q-factor for going at each time period\n",
    "Q_go = np.zeros([H+1, M+1, M+1])\n",
    "\n",
    "# initialize array for storing optimal actions, \n",
    "# -1=keep going, 0,1,2 = stop and predict x\n",
    "actions = (-1)*np.ones([H+1, M+1, M+1]) \n"
   ]
  },
  {
   "cell_type": "code",
   "execution_count": 81,
   "metadata": {},
   "outputs": [],
   "source": [
    "# define function to output the largest among p0, p1, p2, where p0=1-p1-p2\n",
    "\n",
    "def predict(p1, p2):\n",
    "    p0 = 1-p1-p2\n",
    "    if p0>=p1 and p0>=p2:\n",
    "        return 0\n",
    "    elif p1>=p0 and p1>=p2:\n",
    "        return 1\n",
    "    elif p2>=p0 and p2>=p1:\n",
    "        return 2"
   ]
  },
  {
   "cell_type": "code",
   "execution_count": 79,
   "metadata": {},
   "outputs": [
    {
     "data": {
      "text/plain": [
       "0"
      ]
     },
     "execution_count": 79,
     "metadata": {},
     "output_type": "execute_result"
    }
   ],
   "source": [
    "predict(0.1,0.2)"
   ]
  },
  {
   "cell_type": "code",
   "execution_count": 82,
   "metadata": {},
   "outputs": [],
   "source": [
    "for i in range(M+1):\n",
    "    for j in range(M+1-i):\n",
    "        V[0,i,j] = np.amin([(i+j)*delta, 1-i*delta, 1-j*delta])\n",
    "        actions[0,i,j] = predict(i*delta, j*delta)\n",
    "        \n",
    "for h in range(1,H+1):\n",
    "    for i in range(M+1):\n",
    "        p1 = i*delta\n",
    "        for j in range(M+1-i):\n",
    "            p2 = j*delta\n",
    "            ind01 = np.floor( 4*p1 / (p1-p2+3))\n",
    "            ind02 = np.floor( 2*p2 / (p1-p2+3))\n",
    "            ind11 = np.floor( 2*p1 / (-p1+p2+3))\n",
    "            ind12 = np.floor( 4*p2 / (-p1+p2+3))\n",
    "            Q_go[h,i,j] = c + (1/2+p1/6-p2/6)*V[h-1,int(ind01),int(ind02)] \\\n",
    "                        + (1/2-p1/6+p2/6)*V[h-1,int(ind11),int(ind12)]\n",
    "            V[h,i,j] = np.amin([V[0,i,j], Q_go[h,i,j]])\n",
    "            if V[0,i,j] < Q_go[h,i,j]:\n",
    "                actions[h,i,j] = predict(i*delta, j*delta)\n",
    "    \n",
    "    #V[h,:,:] = np.minimum(V[0,:,:], Q_go[h,:,:])"
   ]
  },
  {
   "cell_type": "code",
   "execution_count": 103,
   "metadata": {},
   "outputs": [
    {
     "data": {
      "image/png": "[encoded data removed]",
      "text/plain": [
       "<Figure size 432x288 with 2 Axes>"
      ]
     },
     "metadata": {
      "needs_background": "light"
     },
     "output_type": "display_data"
    }
   ],
   "source": [
    "# plot the value function at the start for different p1, p2 values\n",
    "\n",
    "fig, ax = plt.subplots()\n",
    "value0=ax.pcolor(V[50,:,:], cmap=plt.cm.Blues)\n",
    "fig.colorbar(value0, ax=ax)\n",
    "\n",
    "positions = (0, 20, 40, 60, 80, 100)\n",
    "labels = (\"0\", \"0.2\", \"0.4\", '0.6', '0.8', '1')\n",
    "plt.xticks(positions, labels)\n",
    "plt.yticks(positions, labels)\n",
    "\n",
    "plt.xlabel('$p_1$')\n",
    "plt.ylabel('$p_2$')\n",
    "plt.title('V(p,50)')\n",
    "plt.show()\n"
   ]
  },
  {
   "cell_type": "code",
   "execution_count": 105,
   "metadata": {},
   "outputs": [
    {
     "data": {
      "image/png": "[encoded data removed]",
      "text/plain": [
       "<Figure size 432x288 with 2 Axes>"
      ]
     },
     "metadata": {
      "needs_background": "light"
     },
     "output_type": "display_data"
    }
   ],
   "source": [
    "# plot the optimal action at the start for different p1, p2 values\n",
    "\n",
    "fig, ax = plt.subplots()\n",
    "action=ax.pcolor(np.transpose(actions[50,:,:]), cmap=plt.cm.Blues)\n",
    "fig.colorbar(action, ax=ax)\n",
    "\n",
    "positions = (0, 20, 40, 60, 80, 100)\n",
    "labels = (\"0\", \"0.2\", \"0.4\", '0.6', '0.8', '1')\n",
    "plt.xticks(positions, labels)\n",
    "plt.yticks(positions, labels)\n",
    "\n",
    "plt.xlabel('$p_1$')\n",
    "plt.ylabel('$p_2$')\n",
    "plt.title('Optimal action at $p=(p_1,p_2)$, $h=50$')\n",
    "\n",
    "plt.show()"
   ]
  },
  {
   "cell_type": "code",
   "execution_count": null,
   "metadata": {},
   "outputs": [],
   "source": []
  }
 ],
 "metadata": {
  "kernelspec": {
   "display_name": "Python 3",
   "language": "python",
   "name": "python3"
  },
  "language_info": {
   "codemirror_mode": {
    "name": "ipython",
    "version": 3
   },
   "file_extension": ".py",
   "mimetype": "text/x-python",
   "name": "python",
   "nbconvert_exporter": "python",
   "pygments_lexer": "ipython3",
   "version": "3.7.1"
  }
 },
 "nbformat": 4,
 "nbformat_minor": 2
}
