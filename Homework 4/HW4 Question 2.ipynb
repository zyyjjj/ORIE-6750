{
 "cells": [
  {
   "cell_type": "markdown",
   "metadata": {},
   "source": [
    "### ORIE 6750 Homework 4 Question 2\n",
    "Simulating the knowledge gradient policy"
   ]
  },
  {
   "cell_type": "code",
   "execution_count": 9,
   "metadata": {},
   "outputs": [],
   "source": [
    "import numpy as np\n",
    "import matplotlib.pyplot as plt\n",
    "from scipy.stats import norm\n",
    "from scipy.integrate import quad\n"
   ]
  },
  {
   "cell_type": "code",
   "execution_count": 10,
   "metadata": {},
   "outputs": [],
   "source": [
    "def compute_Q(mu, h, best_mu):\n",
    "    beta = (h+1)/(h+2)\n",
    "    ystar = (best_mu - beta*mu)/(1-beta)\n",
    "    \n",
    "    integrand = lambda theta, mu, h, best_mu, beta, ystar: \\\n",
    "                    (norm.cdf(ystar-theta)*(best_mu-beta*mu-(1-beta)*(theta+1)) +\\\n",
    "                    beta*mu + (1-beta)*(theta+1)) *\\\n",
    "                    np.sqrt((h+1)/(2*np.pi)) * np.exp(-(theta-mu)**2*(h+1)/2)\n",
    "    \n",
    "    integral = quad(integrand, -np.inf, np.inf, args = (mu,h,best_mu,beta,ystar))[0]\n",
    "\n",
    "    return integral"
   ]
  },
  {
   "cell_type": "code",
   "execution_count": 101,
   "metadata": {},
   "outputs": [],
   "source": [
    "# define function for computing Q-factor\n",
    "\n",
    "def value_KG(H, K, n_iter):\n",
    "    \n",
    "    best_mu_record = np.zeros(n_iter)\n",
    "    \n",
    "    for ind_iter in range(n_iter):\n",
    "    \n",
    "        B = np.zeros((K,2))\n",
    "        theta = np.random.normal(0,1,K)\n",
    "\n",
    "        best_mu=0\n",
    "        #best_mu_record=[]\n",
    "        #pull_record=[]\n",
    "\n",
    "        for n in range(1,H+1):\n",
    "\n",
    "            Q = np.zeros(K)\n",
    "            for k in range(K):\n",
    "                # compute Q-factor given by knowledge gradient\n",
    "                if k == pull:\n",
    "                    Q[k] = compute_Q(B[k,0], B[k,1], best_mu)\n",
    "                else:\n",
    "                    Q[k] = Q_cache[k]\n",
    "            \n",
    "            Q_cache = Q\n",
    "            \n",
    "            pull = np.argmax(Q)\n",
    "            #pull_record.append(pull)\n",
    "\n",
    "            Y = np.random.normal(theta[pull], 1)\n",
    "            beta_pull = (B[pull,1]+1) / (B[pull,1]+2)\n",
    "            B[pull,0] = B[pull,0]*beta_pull + (1-beta_pull)*Y\n",
    "            B[pull,1] += 1\n",
    "\n",
    "            best_mu = np.amax(B[:,0])\n",
    "        \n",
    "        #print(ind_iter)\n",
    "        #print(best_mu)\n",
    "        best_mu_record[ind_iter] = best_mu\n",
    "\n",
    "    \n",
    "    return np.mean(best_mu_record)"
   ]
  },
  {
   "cell_type": "code",
   "execution_count": 90,
   "metadata": {},
   "outputs": [
    {
     "name": "stdout",
     "output_type": "stream",
     "text": [
      "Simulating for horizon = 1\n",
      "Simulating for horizon = 2\n",
      "Simulating for horizon = 3\n",
      "Simulating for horizon = 4\n",
      "Simulating for horizon = 5\n",
      "Simulating for horizon = 6\n",
      "Simulating for horizon = 7\n",
      "Simulating for horizon = 8\n",
      "Simulating for horizon = 9\n",
      "Simulating for horizon = 10\n"
     ]
    }
   ],
   "source": [
    "values = np.zeros(10)\n",
    "\n",
    "for h in range(10):\n",
    "    H=h+1\n",
    "    print('Simulating for horizon = '+str(H))\n",
    "    values[h] = value_KG(H, 2, 1000)"
   ]
  },
  {
   "cell_type": "code",
   "execution_count": 92,
   "metadata": {},
   "outputs": [],
   "source": [
    "# copy values computed in question 1: bellman iteration and simulation of optimal policy\n",
    "\n",
    "values_bellman_sim = np.array([[0.49483695, 0.29698544],\n",
    "       [0.67627377, 0.40182158],\n",
    "       [0.7105858 , 0.43268482],\n",
    "       [0.73394914, 0.44610925],\n",
    "       [0.74485106, 0.46867454],\n",
    "       [0.7519399 , 0.51265452],\n",
    "       [0.75631845, 0.49909573],\n",
    "       [0.75926993, 0.45809755],\n",
    "       [0.76127031, 0.54079015],\n",
    "       [0.76266791, 0.4903737 ]])"
   ]
  },
  {
   "cell_type": "code",
   "execution_count": 100,
   "metadata": {},
   "outputs": [
    {
     "data": {
      "text/plain": [
       "<matplotlib.legend.Legend at 0x1a1857f828>"
      ]
     },
     "execution_count": 100,
     "metadata": {},
     "output_type": "execute_result"
    },
    {
     "data": {
      "image/png": "[encoded data removed]",
      "text/plain": [
       "<Figure size 432x288 with 1 Axes>"
      ]
     },
     "metadata": {
      "needs_background": "light"
     },
     "output_type": "display_data"
    }
   ],
   "source": [
    "plt.plot(values_bellman_sim[:,0], label='Bellman iteration')\n",
    "plt.plot(values_bellman_sim[:,1], label='Simulation of optimal policy')\n",
    "plt.plot(values, label='Simulation of knowledge gradient')\n",
    "plt.ylim(0,1)\n",
    "plt.xlabel('Horizon')\n",
    "plt.ylabel('Value')\n",
    "plt.title('Value function vs. horizon')\n",
    "plt.legend(loc='lower right')"
   ]
  },
  {
   "cell_type": "code",
   "execution_count": null,
   "metadata": {},
   "outputs": [],
   "source": []
  }
 ],
 "metadata": {
  "kernelspec": {
   "display_name": "Python 3",
   "language": "python",
   "name": "python3"
  },
  "language_info": {
   "codemirror_mode": {
    "name": "ipython",
    "version": 3
   },
   "file_extension": ".py",
   "mimetype": "text/x-python",
   "name": "python",
   "nbconvert_exporter": "python",
   "pygments_lexer": "ipython3",
   "version": "3.7.1"
  }
 },
 "nbformat": 4,
 "nbformat_minor": 2
}
