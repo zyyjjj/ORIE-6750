{
 "cells": [
  {
   "cell_type": "markdown",
   "metadata": {},
   "source": [
    "### ORIE 6750 Homework 4 Question 3\n",
    "Comparing four heuristics for best arm identification:\n",
    "* Random sampling\n",
    "* Knowledge gradient\n",
    "* Thompson sampling\n",
    "* Upper confidence bound"
   ]
  },
  {
   "cell_type": "code",
   "execution_count": 45,
   "metadata": {},
   "outputs": [],
   "source": [
    "import numpy as np\n",
    "import matplotlib.pyplot as plt\n",
    "from scipy.stats import norm\n",
    "from scipy.integrate import quad"
   ]
  },
  {
   "cell_type": "markdown",
   "metadata": {},
   "source": [
    "Belief state $B_n$ of each arm $i$ is parameterized by the posterior mean $\\mu_{i,n}$ and $h_{i,n}$, the number that arm $i$ has been pulled up to time $n$. The posterior variance is given by $\\sigma_{i,n}^2=(h_{i,n}+1)^{-1}$."
   ]
  },
  {
   "cell_type": "code",
   "execution_count": 2,
   "metadata": {},
   "outputs": [],
   "source": [
    "# Random sampling\n",
    "\n",
    "def value_random(H, K, n_iter, lamb=1):\n",
    "    \n",
    "    values = np.zeros(n_iter)\n",
    "    \n",
    "    for ind_iter in range(n_iter):\n",
    "        \n",
    "        B = np.zeros((K,2))\n",
    "        theta = np.random.normal(0,1,K)\n",
    "        \n",
    "        for n in range(1, H+1):\n",
    "            \n",
    "            pull = np.random.randint(0, K)\n",
    "            \n",
    "            Y = np.random.normal(theta[pull], lamb)\n",
    "            \n",
    "            beta_pull = (B[pull,1]+1) / (B[pull,1]+2)\n",
    "            B[pull,0] = B[pull,0]*beta_pull + (1-beta_pull)*Y\n",
    "            B[pull,1] += 1\n",
    "        \n",
    "        \n",
    "        values[ind_iter] = np.max([B[0,0], B[1,0]])\n",
    "\n",
    "    return np.mean(values)"
   ]
  },
  {
   "cell_type": "code",
   "execution_count": 46,
   "metadata": {},
   "outputs": [],
   "source": [
    "# Knowledge Gradient \n",
    "\n",
    "# First define function for computing Q-factor\n",
    "def compute_Q(mu, h, best_mu):\n",
    "    beta = (h+1)/(h+2)\n",
    "    ystar = (best_mu - beta*mu)/(1-beta)\n",
    "    \n",
    "    integrand = lambda theta, mu, h, best_mu, beta, ystar: \\\n",
    "                    (norm.cdf(ystar-theta)*(best_mu-beta*mu-(1-beta)*(theta+1)) +\\\n",
    "                    beta*mu + (1-beta)*(theta+1)) *\\\n",
    "                    np.sqrt((h+1)/(2*np.pi)) * np.exp(-(theta-mu)**2*(h+1)/2)\n",
    "    \n",
    "    integral = quad(integrand, -np.inf, np.inf, args = (mu,h,best_mu,beta,ystar))[0]\n",
    "\n",
    "    return integral\n",
    "\n",
    "\n",
    "def value_KG(H, K, n_iter):\n",
    "    \n",
    "    best_mu_record = np.zeros(n_iter)\n",
    "    \n",
    "    for ind_iter in range(n_iter):\n",
    "    \n",
    "        B = np.zeros((K,2))\n",
    "        theta = np.random.normal(0,1,K)\n",
    "\n",
    "        best_mu=0\n",
    "\n",
    "        for n in range(1,H+1):\n",
    "\n",
    "            Q = np.zeros(K)\n",
    "            for k in range(K):\n",
    "                # compute Q-factor given by knowledge gradient\n",
    "                if n > 1:    \n",
    "                    if k == pull:\n",
    "                        Q[k] = compute_Q(B[k,0], B[k,1], best_mu)\n",
    "                    else:\n",
    "                        Q[k] = Q_cache[k]\n",
    "            \n",
    "            Q_cache = Q\n",
    "            \n",
    "            pull = np.argmax(Q)\n",
    "\n",
    "            Y = np.random.normal(theta[pull], 1)\n",
    "            beta_pull = (B[pull,1]+1) / (B[pull,1]+2)\n",
    "            B[pull,0] = B[pull,0]*beta_pull + (1-beta_pull)*Y\n",
    "            B[pull,1] += 1\n",
    "\n",
    "            best_mu = np.amax(B[:,0])\n",
    "\n",
    "        best_mu_record[ind_iter] = best_mu\n",
    "\n",
    "    \n",
    "    return np.mean(best_mu_record)\n"
   ]
  },
  {
   "cell_type": "code",
   "execution_count": 4,
   "metadata": {},
   "outputs": [],
   "source": [
    "# Thompson sampling\n",
    "\n",
    "def value_Thompson(H, K, n_iter, lamb=1):\n",
    "    \n",
    "    values = np.zeros(n_iter)\n",
    "    \n",
    "    for ind_iter in range(n_iter):\n",
    "        \n",
    "        B = np.zeros((K,2))\n",
    "        theta = np.random.normal(0,1,K)\n",
    "        \n",
    "        for n in range(1,H+1):\n",
    "            \n",
    "            theta_sampled = np.zeros(K)\n",
    "            for k in range(K):\n",
    "                theta_sampled[k] = np.random.normal(B[k,0], (B[k,1]+1)**(-1/2))\n",
    "\n",
    "            pull = np.argmax(theta_sampled)\n",
    "\n",
    "            if n < H:\n",
    "                Y = np.random.normal(theta[pull], lamb)\n",
    "                beta_pull = (B[pull,1]+1) / (B[pull,1]+2)\n",
    "                B[pull,0] = B[pull,0]*beta_pull + (1-beta_pull)*Y\n",
    "                B[pull,1] += 1\n",
    "        \n",
    "        values[ind_iter] = np.max([B[0,0], B[1,0]])\n",
    "        \n",
    "    return np.mean(values)"
   ]
  },
  {
   "cell_type": "code",
   "execution_count": 6,
   "metadata": {},
   "outputs": [],
   "source": [
    "# Upper confidence bound (UCB)\n",
    "\n",
    "def value_UCB(H, K, n_iter, lamb=1, beta=1.96):\n",
    "    \n",
    "    values = np.zeros(n_iter)\n",
    "    \n",
    "    for ind_iter in range(n_iter):\n",
    "        \n",
    "        # belief states: (posterior mean, number pulled)\n",
    "        B = np.zeros((K,2))\n",
    "        theta = np.random.normal(0,1,K)\n",
    "        \n",
    "        for n in range(1,H):\n",
    "            \n",
    "            UCB = B[:,0] + beta*B[:,1]\n",
    "            \n",
    "            if n==1:\n",
    "                pull = np.random.randint(0,K)\n",
    "            else:\n",
    "                pull = np.argmax(UCB)\n",
    "\n",
    "            Y = np.random.normal(theta[pull], lamb)\n",
    "            \n",
    "            beta_pull = (B[pull,1]+1) / (B[pull,1]+2)\n",
    "            B[pull,0] = B[pull,0]*beta_pull + (1-beta_pull)*Y\n",
    "            B[pull,1] += 1\n",
    "                \n",
    "        values[ind_iter] = np.max([B[0,0], B[1,0]])\n",
    "    \n",
    "    return np.mean(values)"
   ]
  },
  {
   "cell_type": "code",
   "execution_count": 9,
   "metadata": {},
   "outputs": [],
   "source": [
    "random_values = np.zeros(30)\n",
    "\n",
    "for H in range(30):\n",
    "    random_values[H]=value_random(H+1, 10, 10000)\n"
   ]
  },
  {
   "cell_type": "code",
   "execution_count": 47,
   "metadata": {
    "collapsed": true
   },
   "outputs": [
    {
     "name": "stdout",
     "output_type": "stream",
     "text": [
      "0\n",
      "1\n",
      "2\n",
      "3\n",
      "4\n",
      "5\n",
      "6\n",
      "7\n",
      "8\n",
      "9\n",
      "10\n",
      "11\n",
      "12\n",
      "13\n",
      "14\n",
      "15\n",
      "16\n",
      "17\n",
      "18\n",
      "19\n",
      "20\n",
      "21\n",
      "22\n",
      "23\n",
      "24\n",
      "25\n",
      "26\n",
      "27\n",
      "28\n",
      "29\n"
     ]
    }
   ],
   "source": [
    "pull=None\n",
    "KG_values = np.zeros(30)\n",
    "\n",
    "for H in range(30):\n",
    "    print(H)\n",
    "    KG_values[H] = value_KG(H+1, 10, 1000)"
   ]
  },
  {
   "cell_type": "code",
   "execution_count": 10,
   "metadata": {
    "collapsed": true
   },
   "outputs": [
    {
     "name": "stdout",
     "output_type": "stream",
     "text": [
      "0\n",
      "1\n",
      "2\n",
      "3\n",
      "4\n",
      "5\n",
      "6\n",
      "7\n",
      "8\n",
      "9\n",
      "10\n",
      "11\n",
      "12\n",
      "13\n",
      "14\n",
      "15\n",
      "16\n",
      "17\n",
      "18\n",
      "19\n",
      "20\n",
      "21\n",
      "22\n",
      "23\n",
      "24\n",
      "25\n",
      "26\n",
      "27\n",
      "28\n",
      "29\n"
     ]
    }
   ],
   "source": [
    "Thompson_values = np.zeros(30)\n",
    "\n",
    "for H in range(30):\n",
    "    print(H)\n",
    "    Thompson_values[H]=value_Thompson(H+1, 10, 10000)"
   ]
  },
  {
   "cell_type": "code",
   "execution_count": 7,
   "metadata": {
    "collapsed": true
   },
   "outputs": [
    {
     "name": "stdout",
     "output_type": "stream",
     "text": [
      "0\n",
      "1\n",
      "2\n",
      "3\n",
      "4\n",
      "5\n",
      "6\n",
      "7\n",
      "8\n",
      "9\n",
      "10\n",
      "11\n",
      "12\n",
      "13\n",
      "14\n",
      "15\n",
      "16\n",
      "17\n",
      "18\n",
      "19\n",
      "20\n",
      "21\n",
      "22\n",
      "23\n",
      "24\n",
      "25\n",
      "26\n",
      "27\n",
      "28\n",
      "29\n"
     ]
    }
   ],
   "source": [
    "UCB_values = np.zeros(30)\n",
    "\n",
    "for H in range(30):\n",
    "    print(H)\n",
    "    UCB_values[H]=value_UCB(H+1, 10, 1000)"
   ]
  },
  {
   "cell_type": "code",
   "execution_count": 51,
   "metadata": {},
   "outputs": [
    {
     "data": {
      "text/plain": [
       "<matplotlib.legend.Legend at 0x1a16e5eb00>"
      ]
     },
     "execution_count": 51,
     "metadata": {},
     "output_type": "execute_result"
    },
    {
     "data": {
      "image/png": "[encoded data removed]",
      "text/plain": [
       "<Figure size 432x288 with 1 Axes>"
      ]
     },
     "metadata": {
      "needs_background": "light"
     },
     "output_type": "display_data"
    }
   ],
   "source": [
    "plt.plot(random_values, label='Random sampling')\n",
    "plt.plot(Thompson_values, label='Thompson sampling')\n",
    "plt.plot(UCB_values, label='UCB')\n",
    "plt.plot(KG_values, label='Knowledge gradient')\n",
    "\n",
    "plt.xlabel('Horizon (H)')\n",
    "plt.ylabel('Value')\n",
    "plt.title('Value vs. horizon for different heuristics')\n",
    "plt.legend(loc='best')"
   ]
  },
  {
   "cell_type": "code",
   "execution_count": 11,
   "metadata": {},
   "outputs": [],
   "source": [
    "sev1 = np.array([0.17, 0.52, 0.31, 0.13, 0.13])\n",
    "pop_mj = np.array([0, 0.6534, 0.3222, 0.021, 0.0034])\n",
    "pop_fall = np.array([0, 0.8581, 0.1317, 0.0088, 0.0014])"
   ]
  },
  {
   "cell_type": "code",
   "execution_count": 12,
   "metadata": {},
   "outputs": [
    {
     "data": {
      "text/plain": [
       "0.442822"
      ]
     },
     "execution_count": 12,
     "metadata": {},
     "output_type": "execute_result"
    }
   ],
   "source": [
    "np.dot(sev1, pop_mj)"
   ]
  },
  {
   "cell_type": "code",
   "execution_count": 13,
   "metadata": {},
   "outputs": [
    {
     "data": {
      "text/plain": [
       "0.488365"
      ]
     },
     "execution_count": 13,
     "metadata": {},
     "output_type": "execute_result"
    }
   ],
   "source": [
    "np.dot(sev1, pop_fall)"
   ]
  },
  {
   "cell_type": "code",
   "execution_count": 14,
   "metadata": {},
   "outputs": [],
   "source": [
    "sev2 = np.array([0.816, 0.472, 0.659, 0.806, 0.806])\n",
    "sev3 = np.array([0.011, 0.006, 0.022, 0.047, 0.047])\n",
    "sev4 = np.array([0.003, 0.002, 0.009, 0.017, 0.017])"
   ]
  },
  {
   "cell_type": "code",
   "execution_count": 17,
   "metadata": {},
   "outputs": [
    {
     "data": {
      "text/plain": [
       "(0.5404009999999999, 0.5000346999999999)"
      ]
     },
     "execution_count": 17,
     "metadata": {},
     "output_type": "execute_result"
    }
   ],
   "source": [
    "np.dot(sev2, pop_mj), np.dot(sev2, pop_fall)"
   ]
  },
  {
   "cell_type": "code",
   "execution_count": 74,
   "metadata": {},
   "outputs": [
    {
     "data": {
      "text/plain": [
       "(0.039986, 0.09993)"
      ]
     },
     "execution_count": 74,
     "metadata": {},
     "output_type": "execute_result"
    }
   ],
   "source": [
    "sev1_opt = np.array([0.05, 0.04, 0.04, 0.04, 0.03])\n",
    "sev1_pess = np.array([0.15, 0.1, 0.1, 0.1, 0.05])\n",
    "\n",
    "np.dot(sev1_opt, pop_fall), np.dot(sev1_pess, pop_fall)"
   ]
  },
  {
   "cell_type": "code",
   "execution_count": 76,
   "metadata": {},
   "outputs": [
    {
     "data": {
      "text/plain": [
       "(0.136526, 0.136526)"
      ]
     },
     "execution_count": 76,
     "metadata": {},
     "output_type": "execute_result"
    }
   ],
   "source": [
    "sev4 = np.array([0.01, 0.13, 0.17, 0.23, 0.4])\n",
    "np.dot(sev4, pop_fall), np.dot(sev4, pop_fall)"
   ]
  },
  {
   "cell_type": "code",
   "execution_count": 18,
   "metadata": {},
   "outputs": [
    {
     "data": {
      "text/plain": [
       "array([0.00306, 0.01144, 0.00899, 0.00546, 0.00546])"
      ]
     },
     "execution_count": 18,
     "metadata": {},
     "output_type": "execute_result"
    }
   ],
   "source": [
    "infection = np.array([0.018, 0.022, 0.029, 0.042, 0.042])\n",
    "infection * sev1"
   ]
  },
  {
   "cell_type": "code",
   "execution_count": 21,
   "metadata": {},
   "outputs": [],
   "source": [
    "s11, s12 = np.dot(infection*sev1, pop_mj),  np.dot(infection*sev1, pop_fall)\n",
    "s21, s22 = np.dot(infection*sev2, pop_mj),  np.dot(infection*sev2, pop_fall)\n",
    "s31, s32 = np.dot(infection*sev3, pop_mj),  np.dot(infection*sev3, pop_fall)\n",
    "s41, s42 = np.dot(infection*sev4, pop_mj),  np.dot(infection*sev4, pop_fall)"
   ]
  },
  {
   "cell_type": "code",
   "execution_count": 36,
   "metadata": {},
   "outputs": [
    {
     "data": {
      "text/plain": [
       "0.42454545454545456"
      ]
     },
     "execution_count": 36,
     "metadata": {},
     "output_type": "execute_result"
    }
   ],
   "source": [
    "s11/(s11+s21+s31+s41)"
   ]
  },
  {
   "cell_type": "code",
   "execution_count": 33,
   "metadata": {},
   "outputs": [
    {
     "data": {
      "text/plain": [
       "0.0034339377062081915"
      ]
     },
     "execution_count": 33,
     "metadata": {},
     "output_type": "execute_result"
    }
   ],
   "source": [
    "s42 / (s12 + s22 + s32 + s42)"
   ]
  },
  {
   "cell_type": "code",
   "execution_count": null,
   "metadata": {},
   "outputs": [],
   "source": []
  }
 ],
 "metadata": {
  "kernelspec": {
   "display_name": "Python 3",
   "language": "python",
   "name": "python3"
  },
  "language_info": {
   "codemirror_mode": {
    "name": "ipython",
    "version": 3
   },
   "file_extension": ".py",
   "mimetype": "text/x-python",
   "name": "python",
   "nbconvert_exporter": "python",
   "pygments_lexer": "ipython3",
   "version": "3.7.1"
  }
 },
 "nbformat": 4,
 "nbformat_minor": 2
}
