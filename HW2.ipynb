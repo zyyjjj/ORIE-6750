{
 "cells": [
  {
   "cell_type": "markdown",
   "metadata": {},
   "source": [
    "## ORIE 6750 Homework 2 Question 1 and 2\n",
    "\n",
    "Yujia Zhang yz685@cornell.edu\n",
    "\n",
    "For two different sets of $(f_0,f_1)$ (Bernoulli and normal), we first compute the Q-factors and value functions in the finite horizon setting with $H=20$; then we use the optimal policy computed for $H=20$ in an infinite-horizon setting with $p_0=0.5$, estimate its expected loss over 1000 trials, and compare this value to $V(0.5,H)$, i.e. the finite-horizon setting with the same starting value $p=0.5$."
   ]
  },
  {
   "cell_type": "code",
   "execution_count": 86,
   "metadata": {},
   "outputs": [],
   "source": [
    "import numpy as np\n",
    "import pandas as pd\n",
    "import matplotlib\n",
    "import matplotlib.pyplot as plt\n",
    "import scipy.integrate as integrate"
   ]
  },
  {
   "cell_type": "markdown",
   "metadata": {},
   "source": [
    "### a) $f_0$ is Ber(1/2), $f_1$ is Ber(2/3)."
   ]
  },
  {
   "cell_type": "code",
   "execution_count": 248,
   "metadata": {},
   "outputs": [],
   "source": [
    "# set up parameters and initialize\n",
    "\n",
    "M=1000\n",
    "H=20\n",
    "delta = 1/M\n",
    "c=0.05\n",
    "\n",
    "Q_stop = np.zeros([M+1])\n",
    "Q_go = np.zeros([H+1, M+1])\n",
    "V = np.zeros([H+1, M+1])\n"
   ]
  },
  {
   "cell_type": "code",
   "execution_count": 249,
   "metadata": {},
   "outputs": [],
   "source": [
    "# perform Bellman iteration\n",
    "\n",
    "for i in range(M+1):\n",
    "    Q_stop[i] = np.amin([i*delta, 1-i*delta])\n",
    "V[0,:] = Q_stop\n",
    "\n",
    "for h in range(1, H+1):\n",
    "    for i in range(M+1):\n",
    "        p = i*delta\n",
    "        ind1 = np.floor((4*p*M)/(p+3))\n",
    "        ind2 = np.floor((2*p*M)/(3-p))\n",
    "        Q_go[h, i] = c+(1/2+1/6*p)*V[h-1, int(ind1)] + (1/2-1/6*p)*V[h-1, int(ind2)]\n",
    "    V[h,:] = np.minimum(V[0,:], Q_go[h,:])"
   ]
  },
  {
   "cell_type": "code",
   "execution_count": 250,
   "metadata": {},
   "outputs": [
    {
     "data": {
      "image/png": "[encoded data removed]",
      "text/plain": [
       "<Figure size 432x288 with 1 Axes>"
      ]
     },
     "metadata": {
      "needs_background": "light"
     },
     "output_type": "display_data"
    }
   ],
   "source": [
    "# plot Q-factors for stopping and going at H=20\n",
    "\n",
    "xticks = np.linspace(0,1,M+1)\n",
    "plt.plot(xticks, Q_go[20,:], label='Q_go')\n",
    "plt.plot(xticks, V[0,:], label='Q_stop')\n",
    "plt.legend(loc = 'upper left')\n",
    "plt.title('Q-factors for stopping and going at h=H=20')\n",
    "plt.xlabel('p')\n",
    "plt.ylabel('Q-factor value')\n",
    "plt.show()"
   ]
  },
  {
   "cell_type": "code",
   "execution_count": 260,
   "metadata": {},
   "outputs": [
    {
     "name": "stdout",
     "output_type": "stream",
     "text": [
      "[0.47200000000000003, 0.539]\n"
     ]
    }
   ],
   "source": [
    "# Find the region (a,b) where the optimal policy wants to keep sampling\n",
    "\n",
    "goleft = delta * np.where(V[20,:]-Q_stop<0)[0][0]\n",
    "goright = delta * np.where(V[20,:]-Q_stop<0)[0][-1]\n",
    "print([goleft, goright])"
   ]
  },
  {
   "cell_type": "code",
   "execution_count": 261,
   "metadata": {},
   "outputs": [],
   "source": [
    "# Now apply this policy infinite-horizon problem to compute expected loss\n",
    "\n",
    "p0 = 0.5\n",
    "c=0.05\n",
    "a=goleft\n",
    "b=goright\n",
    "Nsim = 1000\n",
    "cumulativeLoss = 0\n",
    "Ls = []\n",
    "Nsamples = []"
   ]
  },
  {
   "cell_type": "code",
   "execution_count": 262,
   "metadata": {},
   "outputs": [],
   "source": [
    "# simulate over 1000 trials\n",
    "\n",
    "for j in range(Nsim):\n",
    "    L=0\n",
    "    p=p0\n",
    "    i=1\n",
    "    keepgoing = True\n",
    "    theta=np.random.binomial(1,p0)\n",
    "    thetahat = 0\n",
    "    \n",
    "    mu = 1/2 if theta==0 else 2/3\n",
    "\n",
    "    while keepgoing:\n",
    "        y = np.random.binomial(1,mu)\n",
    "        L = L+c\n",
    "        if y==1:\n",
    "            p = 4*p/(p+3)\n",
    "        else:\n",
    "            p = 2*p/(3-p)\n",
    "        \n",
    "        if p>a and p<b:\n",
    "            i=i+1\n",
    "        else:\n",
    "            keepgoing = False\n",
    "            thetahat = 0 if p<0.5 else 1\n",
    "\n",
    "    penalty = 0 if thetahat == theta else 1\n",
    "    L = L + penalty\n",
    "    Ls.append(L)\n",
    "    Nsamples.append(i)\n",
    "    \n",
    "    cumulativeLoss = cumulativeLoss + L"
   ]
  },
  {
   "cell_type": "code",
   "execution_count": 263,
   "metadata": {},
   "outputs": [
    {
     "name": "stdout",
     "output_type": "stream",
     "text": [
      "Expected loss: 0.47000000000000774\n",
      "V(0.5,H): 0.4663379999999999\n",
      "1-SD Confidence interval: [0.4543923095879064, 0.4856076904121091]\n",
      "Mean and SD of number of samples: [1.0, 0.0]\n"
     ]
    }
   ],
   "source": [
    "# compute expected loss and conf interval; compare to V(0.5,H) in finite-horizon setting\n",
    "\n",
    "conf = np.std(np.array(Ls))/np.sqrt(Nsim)\n",
    "\n",
    "print('Expected loss: ' + str(cumulativeLoss/Nsim))\n",
    "print('V(0.5,H): ' + str(V[-1,int(M/2+1)]))\n",
    "print('1-SD Confidence interval: ' + str([cumulativeLoss/Nsim-conf, cumulativeLoss/Nsim+conf]))\n",
    "print('Mean and SD of number of samples: ' + str([np.mean(Nsamples), np.std(Nsamples)]))"
   ]
  },
  {
   "cell_type": "code",
   "execution_count": 255,
   "metadata": {},
   "outputs": [
    {
     "data": {
      "text/plain": [
       "Text(0.5, 1.0, 'Distribution of number of samples required for inf-horizon problem')"
      ]
     },
     "execution_count": 255,
     "metadata": {},
     "output_type": "execute_result"
    },
    {
     "data": {
      "image/png": "[encoded data removed]",
      "text/plain": [
       "<Figure size 432x288 with 1 Axes>"
      ]
     },
     "metadata": {
      "needs_background": "light"
     },
     "output_type": "display_data"
    }
   ],
   "source": [
    "# How many samples were taken on avg before stopping?\n",
    "\n",
    "np.mean(Nsamples)\n",
    "np.std(Nsamples)\n",
    "plt.hist(Nsamples, bins=12)\n",
    "plt.title('Distribution of number of samples required for inf-horizon problem')"
   ]
  },
  {
   "cell_type": "markdown",
   "metadata": {},
   "source": [
    "### b) $f_0$ is Normal(0,1), $f_1$ is Normal(1,1)"
   ]
  },
  {
   "cell_type": "markdown",
   "metadata": {},
   "source": [
    "$Q(p,h,\\text{go})=c+\\sum_{j=0}^M V\\left[j,h-1 \\right] \\int_{y_{lower}(j)}^{y_{upper}(j)} \\frac{1}{\\sqrt{2\\pi}}\\left(pe^{-(y-1)^2/2}+(1-p)e^{-y^2/2}\\right)dy$"
   ]
  },
  {
   "cell_type": "code",
   "execution_count": 155,
   "metadata": {},
   "outputs": [],
   "source": [
    "# set up parameters and initialize\n",
    "\n",
    "M=100\n",
    "H=20\n",
    "delta = 1/M\n",
    "c=0.05\n",
    "\n",
    "Q_stop = np.zeros([M+1])\n",
    "Q_go = np.zeros([H+1, M+1])\n",
    "V = np.zeros([H+1, M+1])\n"
   ]
  },
  {
   "cell_type": "code",
   "execution_count": 156,
   "metadata": {},
   "outputs": [],
   "source": [
    "# perform Bellman iteration\n",
    "\n",
    "for i in range(M+1):\n",
    "    Q_stop[i] = np.amin([i*delta, 1-i*delta])\n",
    "V[0,:] = Q_stop\n",
    "\n",
    "littleq = lambda x, p: p*np.exp(-(x-1)**2/2) + (1-p)*np.exp(-x**2/2)\n",
    "\n",
    "for h in range(1, H+1):\n",
    "    \n",
    "    for i in range(1,M):\n",
    "        p = i*delta\n",
    "        \n",
    "        for j in range(1, M-1):\n",
    "            # NaN and inf values at the two extremes of y. Solution: truncate j.\n",
    "            ylower = 0.5 + np.log((1-p)/p) - np.log(1/(j*delta)-1)\n",
    "            yupper = 0.5 + np.log((1-p)/p) - np.log(1/((j+1)*delta)-1)\n",
    "            #print([i, ylower,yupper]) \n",
    "            \n",
    "            q = integrate.quad(littleq, ylower, yupper, args=(p,))[0]\n",
    "            #print([h,i,j,q])\n",
    "            Q_go[h,i] = Q_go[h,i] + V[h-1,j]*q*1/(np.sqrt(2*np.pi))\n",
    "            #print([h,i,j,Q_go[h,i]])\n",
    "        \n",
    "        Q_go[h,i] = Q_go[h,i]+c\n",
    "        \n",
    "    V[h,:] = np.minimum(V[0,:], Q_go[h,:])"
   ]
  },
  {
   "cell_type": "code",
   "execution_count": 157,
   "metadata": {},
   "outputs": [
    {
     "data": {
      "image/png": "[encoded data removed]",
      "text/plain": [
       "<Figure size 432x288 with 1 Axes>"
      ]
     },
     "metadata": {
      "needs_background": "light"
     },
     "output_type": "display_data"
    }
   ],
   "source": [
    "# plot Q-factors for stopping and going at H=20\n",
    "\n",
    "xticks = np.linspace(0,1,M+1)\n",
    "plt.plot(xticks, Q_go[20,:], label='Q_go')\n",
    "plt.plot(xticks, V[0,:], label='Q_stop')\n",
    "plt.legend(loc = 'upper left')\n",
    "plt.title('Q-factors for stopping and going at h=H=20')\n",
    "plt.xlabel('p')\n",
    "plt.ylabel('Q-factor value')\n",
    "plt.show()"
   ]
  },
  {
   "cell_type": "code",
   "execution_count": 166,
   "metadata": {},
   "outputs": [
    {
     "name": "stdout",
     "output_type": "stream",
     "text": [
      "[0.21, 0.77]\n"
     ]
    }
   ],
   "source": [
    "# Find the region (a,b) where the optimal policy wants to keep sampling\n",
    "\n",
    "goleft = delta * np.where(V[20,:]-Q_stop<0)[0][0]\n",
    "goright = delta * np.where(V[20,:]-Q_stop<0)[0][-1]\n",
    "print([goleft, goright])"
   ]
  },
  {
   "cell_type": "code",
   "execution_count": 225,
   "metadata": {},
   "outputs": [],
   "source": [
    "# Now apply this policy infinite-horizon problem to compute expected loss\n",
    "\n",
    "p0 = 0.5\n",
    "i=1\n",
    "L=0\n",
    "c=0.05\n",
    "a=goleft\n",
    "b=goright\n",
    "Nsim = 1000\n",
    "cumulativeLoss = 0\n",
    "Ls = []\n",
    "Nsamples = []"
   ]
  },
  {
   "cell_type": "code",
   "execution_count": 226,
   "metadata": {},
   "outputs": [],
   "source": [
    "# simulate over 1000 trials\n",
    "\n",
    "for j in range(Nsim):\n",
    "    L=0\n",
    "    p=p0\n",
    "    i=1\n",
    "    keepgoing = True\n",
    "    theta=np.random.binomial(1,p0)\n",
    "    thetahat = 0\n",
    "    \n",
    "    if theta==0:\n",
    "        mu, sigma = 0,1\n",
    "    else:\n",
    "        mu,sigma = 1,1\n",
    "\n",
    "    while keepgoing:\n",
    "        y = np.random.normal(mu, sigma, 1)\n",
    "        L = L+c\n",
    "        p = p/(p+(1-p)*np.exp(-y+0.5))\n",
    "        if p>a and p<b:\n",
    "            i=i+1\n",
    "        else:\n",
    "            keepgoing = False\n",
    "            thetahat = 0 if p<0.5 else 1\n",
    "\n",
    "    penalty = 0 if thetahat == theta else 1\n",
    "    L = L + penalty\n",
    "    Ls.append(L)\n",
    "    Nsamples.append(i)\n",
    "    \n",
    "    cumulativeLoss = cumulativeLoss + L"
   ]
  },
  {
   "cell_type": "code",
   "execution_count": 231,
   "metadata": {},
   "outputs": [
    {
     "name": "stdout",
     "output_type": "stream",
     "text": [
      "Expected loss: 0.285500000000001\n",
      "V(0.5,H): 0.28373679781283584\n",
      "1-SD Confidence interval: [0.27416599144168413, 0.2968340085583178]\n",
      "Mean and SD of number of samples: [2.99, 2.0119393629033655]\n"
     ]
    }
   ],
   "source": [
    "# compute expected loss and conf interval; compare to V(0.5,H) in finite-horizon setting\n",
    "\n",
    "conf = np.std(np.array(Ls))/np.sqrt(Nsim)\n",
    "\n",
    "print('Expected loss: ' + str(cumulativeLoss/Nsim))\n",
    "print('V(0.5,H): ' + str(V[-1,51]))\n",
    "print('1-SD Confidence interval: ' + str([cumulativeLoss/Nsim-conf, cumulativeLoss/Nsim+conf]))\n",
    "print('Mean and SD of number of samples: ' + str([np.mean(Nsamples), np.std(Nsamples)]))"
   ]
  },
  {
   "cell_type": "code",
   "execution_count": 236,
   "metadata": {},
   "outputs": [
    {
     "data": {
      "text/plain": [
       "Text(0.5, 1.0, 'Distribution of number of samples required for inf-horizon problem')"
      ]
     },
     "execution_count": 236,
     "metadata": {},
     "output_type": "execute_result"
    },
    {
     "data": {
      "image/png": "[encoded data removed]",
      "text/plain": [
       "<Figure size 432x288 with 1 Axes>"
      ]
     },
     "metadata": {
      "needs_background": "light"
     },
     "output_type": "display_data"
    }
   ],
   "source": [
    "# How many samples were taken on avg before stopping?\n",
    "\n",
    "np.mean(Nsamples)\n",
    "np.std(Nsamples)\n",
    "plt.hist(Nsamples, bins=12)\n",
    "plt.title('Distribution of number of samples required for inf-horizon problem')"
   ]
  }
 ],
 "metadata": {
  "kernelspec": {
   "display_name": "Python 3",
   "language": "python",
   "name": "python3"
  },
  "language_info": {
   "codemirror_mode": {
    "name": "ipython",
    "version": 3
   },
   "file_extension": ".py",
   "mimetype": "text/x-python",
   "name": "python",
   "nbconvert_exporter": "python",
   "pygments_lexer": "ipython3",
   "version": "3.7.1"
  }
 },
 "nbformat": 4,
 "nbformat_minor": 2
}
