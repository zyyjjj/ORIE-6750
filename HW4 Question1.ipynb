{
 "cells": [
  {
   "cell_type": "markdown",
   "metadata": {},
   "source": [
    "### ORIE 6750 Homework 4 Question 1\n",
    "Best arm identification with normally distributed noise"
   ]
  },
  {
   "cell_type": "code",
   "execution_count": 103,
   "metadata": {},
   "outputs": [],
   "source": [
    "import numpy as np\n",
    "import matplotlib.pyplot as plt\n",
    "from scipy.stats import norm\n",
    "from scipy.integrate import quad\n",
    "import time"
   ]
  },
  {
   "cell_type": "code",
   "execution_count": 3,
   "metadata": {},
   "outputs": [],
   "source": [
    "# regular bellman recursion -- parameters\n",
    "\n",
    "K = 2  # two arms\n",
    "R = 3  # upper/lower bound for truncating the real line\n",
    "M = 100  # number of buckets for discretizing the truncated real line\n",
    "delta = 2*R/M  # bucket size\n",
    "mus = np.linspace(-R, R, M+1) # nodes\n",
    "\n",
    "# initialize array for belief state\n",
    "B = np.zeros((K,2))"
   ]
  },
  {
   "cell_type": "code",
   "execution_count": 25,
   "metadata": {},
   "outputs": [],
   "source": [
    "def compute_likelihood(j, h, target_j, mus):\n",
    "    \"\"\"\n",
    "    INPUT: \n",
    "    (j,h): current belief about the arm\n",
    "    target_j: bucket of target posterior mean\n",
    "    OUTPUT:\n",
    "    the likelihood, given the current belief, that we observe a y-value with which we update\n",
    "    our belief state to fall into the target bucket\n",
    "    \"\"\"\n",
    "    M = len(mus)\n",
    "    beta = (h+1) / (h+2)\n",
    "    y_lower = (mus[target_j] - beta*mus[j]) / (1 - beta)\n",
    "    y_upper = (mus[target_j] + delta - beta*mus[j]) / (1 - beta)\n",
    "    \n",
    "    integrand = lambda theta, y_lower, y_upper, target_j, h: \\\n",
    "                    (norm.cdf(y_upper-theta) - norm.cdf(y_lower-theta)) \\\n",
    "                    * np.exp(-(h+1)/2*(theta-mus[target_j])**2)\n",
    "    integral = quad(integrand, -np.inf, np.inf, args = (y_lower, y_upper, target_j, h))[0]\n",
    "    \n",
    "    return np.sqrt((h+1)/(2*np.pi)) * integral\n",
    "    \n",
    "    "
   ]
  },
  {
   "cell_type": "code",
   "execution_count": 114,
   "metadata": {},
   "outputs": [],
   "source": [
    "def compute_likelihood_array(H, M):\n",
    "    \n",
    "    print('Computing likelihood array for horizon '+ str(H))\n",
    "    t = time.time()\n",
    "    \n",
    "    likelihood = np.zeros((M+1, H+1, M+1))\n",
    "\n",
    "    for j in range(M+1):\n",
    "        for h in range(H+1):\n",
    "            for target_j in range(M+1):\n",
    "                likelihood[j,h,target_j] = compute_likelihood(j, h, target_j, mus)\n",
    "    \n",
    "    for j in range(M+1):\n",
    "        for h in range(H+1):\n",
    "            norm = np.sum([likelihood[j, h, t_j] for t_j in range(101)])\n",
    "            for t_j in range(M+1):\n",
    "                likelihood[j, h, t_j] = likelihood[j, h, t_j]/norm\n",
    "    \n",
    "    print('Finished computing likelihood array for horizon ' + str(H) + ' in '\\\n",
    "          + str(time.time()-t)+ ' seconds')\n",
    "    \n",
    "    return likelihood"
   ]
  },
  {
   "cell_type": "code",
   "execution_count": 67,
   "metadata": {},
   "outputs": [
    {
     "data": {
      "text/plain": [
       "1.0"
      ]
     },
     "execution_count": 67,
     "metadata": {},
     "output_type": "execute_result"
    }
   ],
   "source": [
    "# check probability conservation\n",
    "np.sum([likelihood[10, 2, j] for j in range(101)])"
   ]
  },
  {
   "cell_type": "code",
   "execution_count": 98,
   "metadata": {},
   "outputs": [],
   "source": [
    "def compute_optimal_policy(H, M, likelihood, R=3):\n",
    "    \n",
    "    \"\"\"Given horizon, discretization number, likelihood,\n",
    "    find value function and optimal action array\n",
    "    \"\"\"\n",
    "    \n",
    "    print('Computing optimal policy for horizon '+ str(H))\n",
    "    \n",
    "    V = np.zeros((H+1, M+1, H+1, M+1, H+1))\n",
    "    X = np.zeros((H, M+1, H+1, M+1, H+1))\n",
    "    \n",
    "    for j1 in range(M+1):\n",
    "        for h1 in range(H+1):\n",
    "            for j2 in range(M+1):\n",
    "                for h2 in range(H+1):\n",
    "                    V[0,j1,h1,j2,h2] = np.amax([mus[j1], mus[j2]])\n",
    "    \n",
    "    for step in range(1, H+1):\n",
    "\n",
    "        print('time period '+str(step))\n",
    "\n",
    "        Q = np.zeros((K, M+1, H+1, M+1, H+1))\n",
    "\n",
    "        # loop over all possible belief states\n",
    "\n",
    "        t = time.time()\n",
    "\n",
    "        for j_fix in range(M+1):\n",
    "            for h_fix in range(H):\n",
    "                for j in range(M+1):\n",
    "                    for h in range(H):\n",
    "\n",
    "                        # loop over reachable target buckets\n",
    "\n",
    "                        for target_j in range(M):\n",
    "\n",
    "                            # if pull arm 1:\n",
    "                            Q[0,j,h,j_fix,h_fix] += V[step-1,target_j,h+1,j_fix,h_fix] \\\n",
    "                                                            * likelihood[j, h, target_j]\n",
    "                            # if pull arm 2:\n",
    "                            Q[1,j_fix,h_fix,j,h] += V[step-1,j_fix,h_fix,target_j,h+1] \\\n",
    "                                                            * likelihood[j, h, target_j]\n",
    "\n",
    "        print('Q factors computed in ' + str(time.time()-t)+ ' seconds')\n",
    "\n",
    "        for j1 in range(M+1):\n",
    "            for h1 in range(H+1):\n",
    "                for j2 in range(M+1):\n",
    "                    for h2 in range(H+1):\n",
    "\n",
    "                        # take larger Q-factor and store as value\n",
    "                        V[step,j1,h1,j2,h2] = np.amax([Q[0,j1,h1,j2,h2], Q[1,j1,h1,j2,h2]])\n",
    "\n",
    "                        # record the arm to pull\n",
    "                        X[step-1,j1,h1,j2,h2] = np.argmax([Q[0,j1,h1,j2,h2], Q[1,j1,h1,j2,h2]])\n",
    "\n",
    "\n",
    "    return V, X"
   ]
  },
  {
   "cell_type": "code",
   "execution_count": 129,
   "metadata": {},
   "outputs": [],
   "source": [
    "def simulate_optimal_policy(H, X, K=2, N_sim=1000,R=3,M=100):\n",
    "    \"\"\"\n",
    "    Input: horizon H, optimal policy array X, number of arms, number of simulations\n",
    "    \"\"\"\n",
    "    \n",
    "    print(\"Simulating for horizon = \"+str(H))\n",
    "    \n",
    "    delta = 2*R/M # bucket size\n",
    "    values = 0\n",
    "    \n",
    "    for n in range(N_sim):\n",
    "                \n",
    "        B = np.zeros((K,2))\n",
    "        theta = np.random.normal(0,1,K)\n",
    "        \n",
    "        for step in range(H):\n",
    "        \n",
    "            pull = int(X[step, int(np.amin([np.floor((B[0,0]+R)/delta), M])), int(B[0,1]), \\\n",
    "                     int(np.amin([np.floor((B[1,0]+R)/delta), M])), int(B[1,1])])\n",
    "\n",
    "            Y = np.random.normal(theta[pull], 1)\n",
    "\n",
    "            beta_pull = (B[pull,1]+1) / (B[pull,1]+2)\n",
    "            B[pull,0] = B[pull,0]*beta_pull + (1-beta_pull)*Y\n",
    "            B[pull,1] += 1\n",
    "\n",
    "        values += np.max([B[0,0], B[1,0]])\n",
    "    \n",
    "    return values / N_sim"
   ]
  },
  {
   "cell_type": "code",
   "execution_count": 119,
   "metadata": {},
   "outputs": [
    {
     "name": "stdout",
     "output_type": "stream",
     "text": [
      "Computing likelihood array for horizon 10\n",
      "Finished computing likelihood array for horizon 10 in 3492.4383459091187 seconds\n"
     ]
    }
   ],
   "source": [
    "likelihood=compute_likelihood_array(10,100)\n",
    "\n",
    "np.save('likelihood_horizon10',likelihood)\n",
    "\n",
    "#likelihood = np.load('likelihood_horizon10.npy')"
   ]
  },
  {
   "cell_type": "code",
   "execution_count": 135,
   "metadata": {
    "collapsed": true
   },
   "outputs": [
    {
     "name": "stdout",
     "output_type": "stream",
     "text": [
      "Computing optimal policy for horizon 10\n",
      "time period 1\n",
      "Q factors computed in 245.0888111591339 seconds\n",
      "time period 2\n",
      "Q factors computed in 242.63385772705078 seconds\n",
      "time period 3\n",
      "Q factors computed in 303.609756231308 seconds\n",
      "time period 4\n",
      "Q factors computed in 289.39653730392456 seconds\n",
      "time period 5\n",
      "Q factors computed in 316.2666118144989 seconds\n",
      "time period 6\n",
      "Q factors computed in 279.32799220085144 seconds\n",
      "time period 7\n",
      "Q factors computed in 243.57543301582336 seconds\n",
      "time period 8\n",
      "Q factors computed in 292.1826012134552 seconds\n",
      "time period 9\n",
      "Q factors computed in 271.78053998947144 seconds\n",
      "time period 10\n",
      "Q factors computed in 256.71269607543945 seconds\n",
      "Simulating for horizon = 10\n",
      "Computing optimal policy for horizon 11\n",
      "time period 1\n",
      "Q factors computed in 317.46845412254333 seconds\n",
      "time period 2\n",
      "Q factors computed in 309.83038806915283 seconds\n",
      "time period 3\n",
      "Q factors computed in 315.5567169189453 seconds\n",
      "time period 4\n",
      "Q factors computed in 300.0435070991516 seconds\n",
      "time period 5\n",
      "Q factors computed in 311.4254868030548 seconds\n",
      "time period 6\n",
      "Q factors computed in 304.09859108924866 seconds\n",
      "time period 7\n",
      "Q factors computed in 333.3659100532532 seconds\n",
      "time period 8\n",
      "Q factors computed in 296.54593300819397 seconds\n",
      "time period 9\n",
      "Q factors computed in 314.4270009994507 seconds\n",
      "time period 10\n",
      "Q factors computed in 303.9470009803772 seconds\n",
      "time period 11\n",
      "Q factors computed in 305.22402930259705 seconds\n"
     ]
    },
    {
     "ename": "IndexError",
     "evalue": "index 10 is out of bounds for axis 0 with size 10",
     "output_type": "error",
     "traceback": [
      "\u001b[0;31m---------------------------------------------------------------------------\u001b[0m",
      "\u001b[0;31mIndexError\u001b[0m                                Traceback (most recent call last)",
      "\u001b[0;32m<ipython-input-135-2383bc591398>\u001b[0m in \u001b[0;36m<module>\u001b[0;34m\u001b[0m\n\u001b[1;32m      5\u001b[0m     \u001b[0;31m#likelihood = compute_likelihood_array(H, 100)\u001b[0m\u001b[0;34m\u001b[0m\u001b[0;34m\u001b[0m\u001b[0;34m\u001b[0m\u001b[0m\n\u001b[1;32m      6\u001b[0m     \u001b[0mV\u001b[0m\u001b[0;34m,\u001b[0m\u001b[0mX\u001b[0m \u001b[0;34m=\u001b[0m \u001b[0mcompute_optimal_policy\u001b[0m\u001b[0;34m(\u001b[0m\u001b[0mH\u001b[0m\u001b[0;34m,\u001b[0m \u001b[0;36m100\u001b[0m\u001b[0;34m,\u001b[0m \u001b[0mlikelihood\u001b[0m\u001b[0;34m)\u001b[0m\u001b[0;34m\u001b[0m\u001b[0;34m\u001b[0m\u001b[0m\n\u001b[0;32m----> 7\u001b[0;31m     \u001b[0mvalues_compare\u001b[0m\u001b[0;34m[\u001b[0m\u001b[0mh\u001b[0m\u001b[0;34m,\u001b[0m \u001b[0;36m0\u001b[0m\u001b[0;34m]\u001b[0m \u001b[0;34m=\u001b[0m \u001b[0mV\u001b[0m\u001b[0;34m[\u001b[0m\u001b[0mH\u001b[0m\u001b[0;34m,\u001b[0m \u001b[0;36m50\u001b[0m\u001b[0;34m,\u001b[0m \u001b[0;36m0\u001b[0m\u001b[0;34m,\u001b[0m \u001b[0;36m50\u001b[0m\u001b[0;34m,\u001b[0m \u001b[0;36m0\u001b[0m\u001b[0;34m]\u001b[0m\u001b[0;34m\u001b[0m\u001b[0;34m\u001b[0m\u001b[0m\n\u001b[0m\u001b[1;32m      8\u001b[0m     \u001b[0mvalues_compare\u001b[0m\u001b[0;34m[\u001b[0m\u001b[0mh\u001b[0m\u001b[0;34m,\u001b[0m \u001b[0;36m1\u001b[0m\u001b[0;34m]\u001b[0m \u001b[0;34m=\u001b[0m \u001b[0msimulate_optimal_policy\u001b[0m\u001b[0;34m(\u001b[0m\u001b[0mH\u001b[0m\u001b[0;34m,\u001b[0m \u001b[0mX\u001b[0m\u001b[0;34m)\u001b[0m\u001b[0;34m\u001b[0m\u001b[0;34m\u001b[0m\u001b[0m\n",
      "\u001b[0;31mIndexError\u001b[0m: index 10 is out of bounds for axis 0 with size 10"
     ]
    }
   ],
   "source": [
    "#values_compare = np.zeros((10,2))\n",
    "\n",
    "for h in range(10):\n",
    "    H=h+1\n",
    "    #likelihood = compute_likelihood_array(H, 100)\n",
    "    V,X = compute_optimal_policy(H, 100, likelihood)\n",
    "    values_compare[h, 0] = V[H, 50, 0, 50, 0]\n",
    "    values_compare[h, 1] = simulate_optimal_policy(H, X)"
   ]
  },
  {
   "cell_type": "code",
   "execution_count": 136,
   "metadata": {},
   "outputs": [
    {
     "data": {
      "text/plain": [
       "array([[0.49483695, 0.29698544],\n",
       "       [0.67627377, 0.40182158],\n",
       "       [0.7105858 , 0.43268482],\n",
       "       [0.73394914, 0.44610925],\n",
       "       [0.74485106, 0.46867454],\n",
       "       [0.7519399 , 0.51265452],\n",
       "       [0.75631845, 0.49909573],\n",
       "       [0.75926993, 0.45809755],\n",
       "       [0.76127031, 0.54079015],\n",
       "       [0.76266791, 0.4903737 ]])"
      ]
     },
     "execution_count": 136,
     "metadata": {},
     "output_type": "execute_result"
    }
   ],
   "source": [
    "values_compare"
   ]
  },
  {
   "cell_type": "code",
   "execution_count": 142,
   "metadata": {},
   "outputs": [
    {
     "data": {
      "text/plain": [
       "<matplotlib.legend.Legend at 0x1a17dbf710>"
      ]
     },
     "execution_count": 142,
     "metadata": {},
     "output_type": "execute_result"
    },
    {
     "data": {
      "image/png": "[encoded data removed]",
      "text/plain": [
       "<Figure size 432x288 with 1 Axes>"
      ]
     },
     "metadata": {
      "needs_background": "light"
     },
     "output_type": "display_data"
    }
   ],
   "source": [
    "plt.plot(values_compare[:,0], label='Bellman iteration')\n",
    "plt.plot(values_compare[:,1], label='Simulation')\n",
    "plt.ylim(0,1)\n",
    "plt.title('Value vs. horizon from Bellman iteration and simulation')\n",
    "plt.xlabel('Horizon')\n",
    "plt.ylabel('Value')\n",
    "plt.legend()"
   ]
  },
  {
   "cell_type": "code",
   "execution_count": null,
   "metadata": {},
   "outputs": [],
   "source": []
  },
  {
   "cell_type": "code",
   "execution_count": null,
   "metadata": {},
   "outputs": [],
   "source": []
  },
  {
   "cell_type": "code",
   "execution_count": null,
   "metadata": {},
   "outputs": [],
   "source": []
  },
  {
   "cell_type": "code",
   "execution_count": null,
   "metadata": {},
   "outputs": [],
   "source": []
  }
 ],
 "metadata": {
  "kernelspec": {
   "display_name": "Python 3",
   "language": "python",
   "name": "python3"
  },
  "language_info": {
   "codemirror_mode": {
    "name": "ipython",
    "version": 3
   },
   "file_extension": ".py",
   "mimetype": "text/x-python",
   "name": "python",
   "nbconvert_exporter": "python",
   "pygments_lexer": "ipython3",
   "version": "3.7.1"
  }
 },
 "nbformat": 4,
 "nbformat_minor": 2
}
