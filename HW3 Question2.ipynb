{
 "cells": [
  {
   "cell_type": "markdown",
   "metadata": {},
   "source": [
    "## ORIE 6750 Homework 3 Question 2"
   ]
  },
  {
   "cell_type": "code",
   "execution_count": 1,
   "metadata": {},
   "outputs": [],
   "source": [
    "import numpy as np\n",
    "import matplotlib.pyplot as plt\n",
    "from scipy.special import beta\n",
    "from scipy.integrate import quad"
   ]
  },
  {
   "cell_type": "markdown",
   "metadata": {},
   "source": [
    "### (b) Value iteration"
   ]
  },
  {
   "cell_type": "code",
   "execution_count": 50,
   "metadata": {},
   "outputs": [],
   "source": [
    "# Define function for computing likelihood of y given different belief states\n",
    "\n",
    "f = lambda theta,r,s: 1/beta(r+1, s-r+1) * theta**(r+1) * (1-theta)**(s-r)\n",
    "\n",
    "for r in range(H):\n",
    "    for s in range(H):\n",
    "        likelihood[r,s] = quad(f, 0, 1, args = (r,s))[0]"
   ]
  },
  {
   "cell_type": "code",
   "execution_count": 2,
   "metadata": {},
   "outputs": [],
   "source": [
    "# Define function with horizon H as input and optimal values and actions as output\n",
    "\n",
    "def compute_value(H):\n",
    "    \"\"\"\n",
    "    Input: horizon H\n",
    "    Output: V = (H+1)^5 dimensional array that records the value iteration\n",
    "            X = H*(H+1)^4 dimensional array that records the optimal actions\n",
    "    V[H+1,0,0,0,0] is the value starting from uniform prior on both arms\n",
    "    \"\"\"\n",
    "    \n",
    "    # initialize arrays for storing value, likelihood, best-arm-to-pull\n",
    "    K=2\n",
    "    V = np.zeros((H+1,H+1,H+1,H+1,H+1))\n",
    "    likelihood = np.zeros((H+1,H+1))\n",
    "    X = np.zeros((H,H+1,H+1,H+1,H+1))\n",
    "    \n",
    "    # compute likelihood (independent of iteration and arm)\n",
    "    f = lambda theta,r,s: 1/beta(r+1, s-r+1) * theta**(r+1) * (1-theta)**(s-r)\n",
    "    for r in range(H+1):\n",
    "        for s in range(H+1):\n",
    "            likelihood[r,s] = quad(f, 0, 1, args = (r,s))[0]\n",
    "    \n",
    "    # compute last-step value (\"stop-and-predict\")\n",
    "    for r1 in range(H+1):\n",
    "        for s1 in range(H+1):\n",
    "            for r2 in range(H+1):\n",
    "                for s2 in range(H+1):\n",
    "                    V[0,r1,s1,r2,s2] = np.amax([(r1+1)/(s1+2), (r2+1)/(s2+2)])\n",
    "\n",
    "    # value iteration \n",
    "    for h in range(1, H+1):\n",
    "\n",
    "        # reset array for storing Q-factors\n",
    "        Q = np.zeros((K,H+1,H+1,H+1,H+1))\n",
    "\n",
    "        # Compute Q-factor for pulling each arm under H^4-dim belief states\n",
    "        for r_fix in range(H):\n",
    "            for s_fix in range(H):\n",
    "                for r in range(H):\n",
    "                    for s in range(H):\n",
    "                        # if pull arm 1\n",
    "                        Q[0,r,s,r_fix,s_fix] = V[h-1,r+1,s+1,r_fix,s_fix]*likelihood[r,s] +\\\n",
    "                                                V[h-1,r,s+1,r_fix,s_fix]*(1-likelihood[r,s])\n",
    "                        # if pull arm 2\n",
    "                        Q[1,r_fix,s_fix,r,s] = V[h-1,r_fix,s_fix,r+1,s+1]*likelihood[r,s] +\\\n",
    "                                                V[h-1,r_fix,s_fix,r,s+1]*(1-likelihood[r,s])\n",
    "        \n",
    "        # Compute value under each belief state\n",
    "        for r1 in range(H+1):\n",
    "            for s1 in range(H+1):\n",
    "                for r2 in range(H+1):\n",
    "                    for s2 in range(H+1):\n",
    "\n",
    "                        # compare the two Q-factors\n",
    "                        V[h,r1,s1,r2,s2] = np.amax([Q[0,r1,s1,r2,s2], Q[1,r1,s1,r2,s2]])\n",
    "                        X[h-1,r1,s1,r2,s2] = np.argmax([Q[1,r1,s1,r2,s2], Q[0,r1,s1,r2,s2]])\n",
    "\n",
    "\n",
    "    return V,X"
   ]
  },
  {
   "cell_type": "code",
   "execution_count": 3,
   "metadata": {},
   "outputs": [
    {
     "data": {
      "text/plain": [
       "(11, 11, 11, 11, 11)"
      ]
     },
     "execution_count": 3,
     "metadata": {},
     "output_type": "execute_result"
    }
   ],
   "source": [
    "V,X = compute_value(10)\n",
    "V.shape"
   ]
  },
  {
   "cell_type": "code",
   "execution_count": 178,
   "metadata": {
    "collapsed": true
   },
   "outputs": [
    {
     "name": "stdout",
     "output_type": "stream",
     "text": [
      "0\n",
      "1\n",
      "2\n",
      "3\n",
      "4\n",
      "5\n",
      "6\n",
      "7\n",
      "8\n",
      "9\n",
      "10\n",
      "11\n",
      "12\n",
      "13\n",
      "14\n",
      "15\n",
      "16\n",
      "17\n",
      "18\n",
      "19\n",
      "20\n",
      "21\n",
      "22\n",
      "23\n",
      "24\n",
      "25\n",
      "26\n",
      "27\n",
      "28\n",
      "29\n"
     ]
    }
   ],
   "source": [
    "# Do value iteration for horizons ranging from 1 to 30\n",
    "\n",
    "value_H = np.zeros(30)\n",
    "\n",
    "for H in range(30):\n",
    "    V,_ = compute_value(H+1)\n",
    "    value_H[H] = V[H+1,0,0,0,0]\n",
    "    print(H)\n",
    "    "
   ]
  },
  {
   "cell_type": "code",
   "execution_count": 179,
   "metadata": {},
   "outputs": [
    {
     "data": {
      "text/plain": [
       "array([0.58333333, 0.58333333, 0.61111111, 0.61666667, 0.625     ,\n",
       "       0.62777778, 0.63412698, 0.63595238, 0.63948413, 0.64083333,\n",
       "       0.64329606, 0.64455404, 0.64633529, 0.64713473, 0.64858937,\n",
       "       0.64931427, 0.65039477, 0.65095857, 0.65188827, 0.6523572 ,\n",
       "       0.65309547, 0.65351242, 0.65414479, 0.65450437, 0.65503712,\n",
       "       0.65533596, 0.65580886, 0.65607914, 0.65648125, 0.65671566])"
      ]
     },
     "execution_count": 179,
     "metadata": {},
     "output_type": "execute_result"
    }
   ],
   "source": [
    "value_H"
   ]
  },
  {
   "cell_type": "code",
   "execution_count": 181,
   "metadata": {},
   "outputs": [
    {
     "data": {
      "text/plain": [
       "[<matplotlib.lines.Line2D at 0x151ef23b38>]"
      ]
     },
     "execution_count": 181,
     "metadata": {},
     "output_type": "execute_result"
    },
    {
     "data": {
      "image/png": "[encoded data removed]",
      "text/plain": [
       "<Figure size 432x288 with 1 Axes>"
      ]
     },
     "metadata": {
      "needs_background": "light"
     },
     "output_type": "display_data"
    }
   ],
   "source": [
    "plt.plot(value_H,'o')"
   ]
  },
  {
   "cell_type": "markdown",
   "metadata": {},
   "source": [
    "### (c) Thompson sampling"
   ]
  },
  {
   "cell_type": "code",
   "execution_count": 61,
   "metadata": {},
   "outputs": [],
   "source": [
    "def compute_value_Thompson(H, n_iter):\n",
    "    \n",
    "    K = 2\n",
    "    values = np.zeros(n_iter)\n",
    "\n",
    "    \n",
    "    for ind_iter in range(n_iter):\n",
    "        \n",
    "        B = np.zeros((K,2))    \n",
    "        \n",
    "        for n in range(1,H+1):\n",
    "            #print('time step '+str(n))\n",
    "            theta_sampled = np.zeros(K)\n",
    "            for k in range(K):\n",
    "                theta_sampled[k] = np.random.beta(B[k,0]+1, B[k,1]-B[k,0]+1)\n",
    "            #print(theta_sampled)\n",
    "            pull = np.argmax(theta_sampled)\n",
    "            #print('arm chosen '+str(pull))\n",
    "            if n < H:\n",
    "                Y = np.random.binomial(1, theta_sampled[pull])\n",
    "                #print('sampled Y is '+str(Y))\n",
    "                if Y == 1:\n",
    "                    B[pull,0] += 1\n",
    "                B[pull,1] += 1\n",
    "                #print('updated belief state is '+str(B)+'\\n')\n",
    "        \n",
    "        #print('make choice at time ' +str(n)+ ' to pull arm ' + str(pull))\n",
    "        values[ind_iter] = (B[pull,0]+1) / (B[pull,1] + 2)\n",
    "        #print('value is '+str(values[ind_iter]))\n",
    "        \n",
    "    #print(values)\n",
    "    return np.mean(values)"
   ]
  },
  {
   "cell_type": "code",
   "execution_count": 64,
   "metadata": {},
   "outputs": [
    {
     "name": "stdout",
     "output_type": "stream",
     "text": [
      "0\n",
      "1\n",
      "2\n",
      "3\n",
      "4\n",
      "5\n",
      "6\n",
      "7\n",
      "8\n",
      "9\n",
      "10\n",
      "11\n",
      "12\n",
      "13\n",
      "14\n",
      "15\n",
      "16\n",
      "17\n",
      "18\n",
      "19\n",
      "20\n",
      "21\n",
      "22\n",
      "23\n",
      "24\n",
      "25\n",
      "26\n",
      "27\n",
      "28\n",
      "29\n"
     ]
    }
   ],
   "source": [
    "values_Thompson = np.zeros(30)\n",
    "for H in range(30):\n",
    "    print(H)\n",
    "    values_Thompson[H] = compute_value_Thompson(H+1,5000)"
   ]
  },
  {
   "cell_type": "markdown",
   "metadata": {},
   "source": [
    "### (d) Plot results from value iteration and Thompson sampling"
   ]
  },
  {
   "cell_type": "code",
   "execution_count": 66,
   "metadata": {},
   "outputs": [
    {
     "data": {
      "text/plain": [
       "<matplotlib.legend.Legend at 0x151da10e48>"
      ]
     },
     "execution_count": 66,
     "metadata": {},
     "output_type": "execute_result"
    },
    {
     "data": {
      "image/png": "[encoded data removed]",
      "text/plain": [
       "<Figure size 432x288 with 1 Axes>"
      ]
     },
     "metadata": {
      "needs_background": "light"
     },
     "output_type": "display_data"
    }
   ],
   "source": [
    "plt.plot(np.linspace(1,31,30),values_H, label='Optimal Policy from Value Iteration')\n",
    "plt.plot(np.linspace(1,31,30),values_Thompson, label='5000 runs of Thompson Sampling')\n",
    "plt.xlabel('Horizon')\n",
    "plt.ylabel('Value')\n",
    "plt.title('Value of the policy with uniform prior')\n",
    "plt.legend()"
   ]
  },
  {
   "cell_type": "code",
   "execution_count": null,
   "metadata": {},
   "outputs": [],
   "source": []
  }
 ],
 "metadata": {
  "kernelspec": {
   "display_name": "Python 3",
   "language": "python",
   "name": "python3"
  },
  "language_info": {
   "codemirror_mode": {
    "name": "ipython",
    "version": 3
   },
   "file_extension": ".py",
   "mimetype": "text/x-python",
   "name": "python",
   "nbconvert_exporter": "python",
   "pygments_lexer": "ipython3",
   "version": "3.7.1"
  }
 },
 "nbformat": 4,
 "nbformat_minor": 2
}
